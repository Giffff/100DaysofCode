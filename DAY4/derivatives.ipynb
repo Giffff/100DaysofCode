{
 "cells": [
  {
   "cell_type": "code",
   "execution_count": 23,
   "id": "ef0323aa",
   "metadata": {},
   "outputs": [],
   "source": [
    "import numpy as np\n",
    "import sympy as sym\n",
    "\n",
    "from IPython.display import display"
   ]
  },
  {
   "cell_type": "code",
   "execution_count": 28,
   "id": "3a57b949",
   "metadata": {},
   "outputs": [
    {
     "name": "stdout",
     "output_type": "stream",
     "text": [
      "The functions\n"
     ]
    },
    {
     "data": {
      "text/latex": [
       "$\\displaystyle 2 x^{2}$"
      ],
      "text/plain": [
       "2*x**2"
      ]
     },
     "metadata": {},
     "output_type": "display_data"
    },
    {
     "data": {
      "text/latex": [
       "$\\displaystyle - 3 x^{4} + 4 x^{3}$"
      ],
      "text/plain": [
       "-3*x**4 + 4*x**3"
      ]
     },
     "metadata": {},
     "output_type": "display_data"
    },
    {
     "name": "stdout",
     "output_type": "stream",
     "text": [
      "compute their independent derivative\n"
     ]
    },
    {
     "data": {
      "text/latex": [
       "$\\displaystyle 4 x$"
      ],
      "text/plain": [
       "4*x"
      ]
     },
     "metadata": {},
     "output_type": "display_data"
    },
    {
     "data": {
      "text/latex": [
       "$\\displaystyle - 12 x^{3} + 12 x^{2}$"
      ],
      "text/plain": [
       "-12*x**3 + 12*x**2"
      ]
     },
     "metadata": {},
     "output_type": "display_data"
    },
    {
     "name": "stdout",
     "output_type": "stream",
     "text": [
      "apply product rule manually\n"
     ]
    },
    {
     "data": {
      "text/latex": [
       "$\\displaystyle 2 x^{2} \\left(- 12 x^{3} + 12 x^{2}\\right) + 4 x \\left(- 3 x^{4} + 4 x^{3}\\right)$"
      ],
      "text/plain": [
       "2*x**2*(-12*x**3 + 12*x**2) + 4*x*(-3*x**4 + 4*x**3)"
      ]
     },
     "metadata": {},
     "output_type": "display_data"
    },
    {
     "name": "stdout",
     "output_type": "stream",
     "text": [
      "Wrong way\n"
     ]
    },
    {
     "data": {
      "text/latex": [
       "$\\displaystyle 16 x^{2}$"
      ],
      "text/plain": [
       "16*x**2"
      ]
     },
     "metadata": {},
     "output_type": "display_data"
    },
    {
     "name": "stdout",
     "output_type": "stream",
     "text": [
      "Via sympy\n"
     ]
    },
    {
     "data": {
      "text/latex": [
       "$\\displaystyle 2 x^{2} \\left(- 12 x^{3} + 12 x^{2}\\right) + 4 x \\left(- 3 x^{4} + 4 x^{3}\\right)$"
      ],
      "text/plain": [
       "2*x**2*(-12*x**3 + 12*x**2) + 4*x*(-3*x**4 + 4*x**3)"
      ]
     },
     "metadata": {},
     "output_type": "display_data"
    }
   ],
   "source": [
    "# create symbolic variable in simpy\n",
    "x=sym.symbols('x')\n",
    "\n",
    "#create two functions\n",
    "fx=2*x**2\n",
    "gx=4*x**3-3*x**4\n",
    "\n",
    "#compute their independent derivative\n",
    "df=sym.diff(fx)\n",
    "dg=sym.diff(gx)\n",
    "\n",
    "#apply product rule manually\n",
    "manual=df*gx+fx*dg\n",
    "wrongway=df*df\n",
    "\n",
    "#via simpy\n",
    "viasym=sym.diff(fx*gx)\n",
    "\n",
    "print('The functions')\n",
    "display(fx)\n",
    "display(gx)\n",
    "print('compute their independent derivative')\n",
    "display(df)\n",
    "display(dg)\n",
    "\n",
    "\n",
    "print('apply product rule manually')\n",
    "display(manual)\n",
    "print('Wrong way')\n",
    "display(wrongway)\n",
    "print('Via sympy')\n",
    "display(viasym)"
   ]
  },
  {
   "cell_type": "code",
   "execution_count": 29,
   "id": "93434960",
   "metadata": {},
   "outputs": [
    {
     "name": "stdout",
     "output_type": "stream",
     "text": [
      "The function\n"
     ]
    },
    {
     "data": {
      "text/latex": [
       "$\\displaystyle \\left(- 3 x^{4} + 4 x^{3}\\right)^{5}$"
      ],
      "text/plain": [
       "(-3*x**4 + 4*x**3)**5"
      ]
     },
     "metadata": {},
     "output_type": "display_data"
    },
    {
     "name": "stdout",
     "output_type": "stream",
     "text": [
      "Its derivatives\n"
     ]
    },
    {
     "data": {
      "text/latex": [
       "$\\displaystyle \\left(- 60 x^{3} + 60 x^{2}\\right) \\left(- 3 x^{4} + 4 x^{3}\\right)^{4}$"
      ],
      "text/plain": [
       "(-60*x**3 + 60*x**2)*(-3*x**4 + 4*x**3)**4"
      ]
     },
     "metadata": {},
     "output_type": "display_data"
    }
   ],
   "source": [
    "# Repeat with the chain rule\n",
    "fx=gx**5\n",
    "gx=x**2+4*x**3\n",
    "\n",
    "print('The function')\n",
    "display(fx)\n",
    "print('Its derivatives')\n",
    "display(sym.diff(fx))"
   ]
  },
  {
   "cell_type": "code",
   "execution_count": null,
   "id": "9d2a59fd",
   "metadata": {},
   "outputs": [],
   "source": []
  }
 ],
 "metadata": {
  "kernelspec": {
   "display_name": "Python 3 (ipykernel)",
   "language": "python",
   "name": "python3"
  },
  "language_info": {
   "codemirror_mode": {
    "name": "ipython",
    "version": 3
   },
   "file_extension": ".py",
   "mimetype": "text/x-python",
   "name": "python",
   "nbconvert_exporter": "python",
   "pygments_lexer": "ipython3",
   "version": "3.8.12"
  }
 },
 "nbformat": 4,
 "nbformat_minor": 5
}
