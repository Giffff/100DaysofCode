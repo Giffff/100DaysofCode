{
 "cells": [
  {
   "cell_type": "code",
   "execution_count": 21,
   "id": "8b327e0b",
   "metadata": {},
   "outputs": [],
   "source": [
    "from tensorflow.keras.models import Sequential\n",
    "from tensorflow.keras.layers import Dense, Dropout, Conv2D, MaxPool2D, Flatten\n",
    "from tensorflow.keras.datasets import mnist\n",
    "from keras.utils import np_utils\n",
    "#import matplotlib.pyplot as plt"
   ]
  },
  {
   "cell_type": "code",
   "execution_count": 22,
   "id": "dd0bdf1f",
   "metadata": {},
   "outputs": [],
   "source": [
    "(X_train,y_train),(X_test,y_test)=mnist.load_data()"
   ]
  },
  {
   "cell_type": "code",
   "execution_count": 23,
   "id": "8899a1a7",
   "metadata": {},
   "outputs": [
    {
     "name": "stdout",
     "output_type": "stream",
     "text": [
      "X_train shape (60000, 28, 28)\n",
      "y_train shape (60000,)\n",
      "X_test shape (10000, 28, 28)\n",
      "y_test shape (10000,)\n"
     ]
    }
   ],
   "source": [
    "print(\"X_train shape\", X_train.shape)\n",
    "print(\"y_train shape\", y_train.shape)\n",
    "print(\"X_test shape\", X_test.shape)\n",
    "print(\"y_test shape\", y_test.shape)"
   ]
  },
  {
   "cell_type": "code",
   "execution_count": 24,
   "id": "b27e893f",
   "metadata": {},
   "outputs": [],
   "source": [
    "X_train = X_train.reshape(X_train.shape[0], 28, 28, 1)\n",
    "X_test = X_test.reshape(X_test.shape[0], 28, 28, 1)\n",
    "X_train=X_train.astype('float32')\n",
    "X_test=X_test.astype('float32')"
   ]
  },
  {
   "cell_type": "code",
   "execution_count": 25,
   "id": "bc341ac1",
   "metadata": {},
   "outputs": [],
   "source": [
    "X_train /= 255\n",
    "X_test /= 255"
   ]
  },
  {
   "cell_type": "code",
   "execution_count": 26,
   "id": "5a2b056d",
   "metadata": {},
   "outputs": [],
   "source": [
    "n_classes=10"
   ]
  },
  {
   "cell_type": "code",
   "execution_count": 27,
   "id": "25bc9205",
   "metadata": {},
   "outputs": [],
   "source": [
    "y_train=np_utils.to_categorical(y_train,n_classes)\n",
    "y_test=np_utils.to_categorical(y_test,n_classes)"
   ]
  },
  {
   "cell_type": "code",
   "execution_count": 28,
   "id": "96eab45d",
   "metadata": {},
   "outputs": [
    {
     "data": {
      "text/plain": [
       "(10000, 10)"
      ]
     },
     "execution_count": 28,
     "metadata": {},
     "output_type": "execute_result"
    }
   ],
   "source": [
    "y_test.shape"
   ]
  },
  {
   "cell_type": "code",
   "execution_count": 31,
   "id": "100fcb03",
   "metadata": {},
   "outputs": [
    {
     "name": "stdout",
     "output_type": "stream",
     "text": [
      "Epoch 1/10\n",
      "469/469 [==============================] - 34s 73ms/step - loss: 0.1951 - accuracy: 0.9450 - val_loss: 0.0688 - val_accuracy: 0.9781\n",
      "Epoch 2/10\n",
      "469/469 [==============================] - 34s 73ms/step - loss: 0.0574 - accuracy: 0.9829 - val_loss: 0.0572 - val_accuracy: 0.9808\n",
      "Epoch 3/10\n",
      "469/469 [==============================] - 28s 60ms/step - loss: 0.0335 - accuracy: 0.9896 - val_loss: 0.0518 - val_accuracy: 0.9826\n",
      "Epoch 4/10\n",
      "469/469 [==============================] - 19s 40ms/step - loss: 0.0214 - accuracy: 0.9934 - val_loss: 0.0516 - val_accuracy: 0.9829\n",
      "Epoch 5/10\n",
      "469/469 [==============================] - 26s 56ms/step - loss: 0.0125 - accuracy: 0.9964 - val_loss: 0.0493 - val_accuracy: 0.9848\n",
      "Epoch 6/10\n",
      "469/469 [==============================] - 36s 76ms/step - loss: 0.0087 - accuracy: 0.9976 - val_loss: 0.0683 - val_accuracy: 0.9808\n",
      "Epoch 7/10\n",
      "469/469 [==============================] - 34s 73ms/step - loss: 0.0076 - accuracy: 0.9976 - val_loss: 0.0678 - val_accuracy: 0.9824\n",
      "Epoch 8/10\n",
      "469/469 [==============================] - 34s 73ms/step - loss: 0.0050 - accuracy: 0.9986 - val_loss: 0.0547 - val_accuracy: 0.9851\n",
      "Epoch 9/10\n",
      "469/469 [==============================] - 35s 74ms/step - loss: 0.0038 - accuracy: 0.9991 - val_loss: 0.0617 - val_accuracy: 0.9830\n",
      "Epoch 10/10\n",
      "469/469 [==============================] - 35s 74ms/step - loss: 0.0035 - accuracy: 0.9991 - val_loss: 0.0656 - val_accuracy: 0.9835\n"
     ]
    },
    {
     "data": {
      "text/plain": [
       "<tensorflow.python.keras.callbacks.History at 0x274dd840eb0>"
      ]
     },
     "execution_count": 31,
     "metadata": {},
     "output_type": "execute_result"
    }
   ],
   "source": [
    "model = Sequential()\n",
    "# convolutional layer\n",
    "model.add(Conv2D(25, kernel_size=(3,3), strides=(1,1), padding='valid', activation='relu', input_shape=(28,28,1)))\n",
    "model.add(MaxPool2D(pool_size=(1,1)))\n",
    "# flatten output of conv\n",
    "model.add(Flatten())\n",
    "# hidden layer\n",
    "model.add(Dense(100, activation='relu'))\n",
    "# output layer\n",
    "model.add(Dense(10, activation='softmax'))\n",
    "\n",
    "# compiling the sequential model\n",
    "model.compile(loss='categorical_crossentropy', metrics=['accuracy'], optimizer='adam')\n",
    "\n",
    "# training the model for 10 epochs\n",
    "model.fit(X_train, y_train, batch_size=128, epochs=10, validation_data=(X_test, y_test))"
   ]
  },
  {
   "cell_type": "code",
   "execution_count": null,
   "id": "23dcb5f7",
   "metadata": {},
   "outputs": [],
   "source": []
  }
 ],
 "metadata": {
  "kernelspec": {
   "display_name": "Python 3 (ipykernel)",
   "language": "python",
   "name": "python3"
  },
  "language_info": {
   "codemirror_mode": {
    "name": "ipython",
    "version": 3
   },
   "file_extension": ".py",
   "mimetype": "text/x-python",
   "name": "python",
   "nbconvert_exporter": "python",
   "pygments_lexer": "ipython3",
   "version": "3.8.12"
  }
 },
 "nbformat": 4,
 "nbformat_minor": 5
}
